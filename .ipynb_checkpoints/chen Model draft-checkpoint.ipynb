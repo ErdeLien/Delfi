{
 "cells": [
  {
   "cell_type": "code",
   "execution_count": 1,
   "id": "f1d2542c",
   "metadata": {},
   "outputs": [],
   "source": [
    "import pandas as pd\n",
    "import numpy as np\n",
    "import seaborn as sns \n",
    "import matplotlib.pyplot as plt\n",
    "#import sklearn\n",
    "from sklearn.decomposition import PCA\n",
    "from sklearn.preprocessing import StandardScaler\n",
    "%matplotlib inline\n",
    "from typing import Optional, NoReturn, Any\n",
    "import brownian_motion\n",
    "from scipy.sparse import diags"
   ]
  },
  {
   "cell_type": "markdown",
   "id": "c4ffb7ca",
   "metadata": {},
   "source": [
    "## Some useful CIR"
   ]
  },
  {
   "cell_type": "code",
   "execution_count": 89,
   "id": "3292a7fb",
   "metadata": {},
   "outputs": [],
   "source": [
    "from dataclasses import dataclass\n",
    "from typing import Optional, NoReturn\n",
    "\n",
    "\n",
    "@dataclass\n",
    "class CIRParams:\n",
    "    \"\"\"CIR process params, 2ab has to be larger or equal then c^2.\"\"\"\n",
    "\n",
    "    a: float  # mean reversion parameter\n",
    "    b: float  # asymptotic mean\n",
    "    c: float  # Brownian motion scale factor (standard deviation)\n",
    "\n",
    "    def __post_init__(self) -> Optional[NoReturn]:\n",
    "        if 2 * self.a * self.b < self.c ** 2:\n",
    "            raise ValueError(\"2ab has to be less than or equal to c^2.\")\n",
    "        return None"
   ]
  },
  {
   "cell_type": "code",
   "execution_count": 90,
   "id": "897d7e02",
   "metadata": {},
   "outputs": [],
   "source": [
    "import numpy as np\n",
    "from sklearn.linear_model import LinearRegression\n",
    "\n",
    "\n",
    "def estimate_CIR_params(sigma_t: np.ndarray) -> CIRParams:\n",
    "    \"\"\"\n",
    "    Estimate CIR params from OLS regression.\n",
    "    - sigma_t is 1D array.\n",
    "    Returns instance of CIRParams.\n",
    "    \"\"\"\n",
    "    # define regression specification\n",
    "    sigma_sqrt = np.sqrt(sigma_t[:-1])\n",
    "    y = np.diff(sigma_t) / sigma_sqrt\n",
    "    x1 = 1.0 / sigma_sqrt\n",
    "    x2 = sigma_sqrt\n",
    "    X = np.concatenate([x1.reshape(-1, 1), x2.reshape(-1, 1)], axis=1)\n",
    "    # regression model\n",
    "    reg = LinearRegression(fit_intercept=False)\n",
    "    reg.fit(X, y)\n",
    "    # regression coefficients\n",
    "    ab = reg.coef_[0]\n",
    "    a = -reg.coef_[1]\n",
    "    b = ab / a\n",
    "    # residuals and their standard deviation\n",
    "    y_hat = reg.predict(X)\n",
    "    c = np.std(y - y_hat)\n",
    "    return CIRParams(a, b, c)"
   ]
  },
  {
   "cell_type": "markdown",
   "id": "dde68aee",
   "metadata": {},
   "source": [
    "## Chen"
   ]
  },
  {
   "cell_type": "code",
   "execution_count": 9,
   "id": "0595f3da",
   "metadata": {},
   "outputs": [],
   "source": [
    "from dataclasses import dataclass\n",
    "from typing import Optional, NoReturn\n",
    "\n",
    "\n",
    "@dataclass\n",
    "class ChenParams:\n",
    "    \"\"\"CIR process params, 2ab has to be larger or equal then c^2.\"\"\"\n",
    "\n",
    "    kappa: float\n",
    "    nu: float\n",
    "    zeta: float\n",
    "    alpha: float\n",
    "    mu: float\n",
    "    beta: float\n",
    "    eta: float\n",
    "\n",
    "    def __post_init__(self) -> Optional[NoReturn]:\n",
    "    #    if 2 * self.a * self.b < self.c ** 2:\n",
    "    #        raise ValueError(\"2ab has to be less than or equal to c^2.\")\n",
    "        return None"
   ]
  },
  {
   "cell_type": "code",
   "execution_count": 27,
   "id": "0b4e50f6",
   "metadata": {},
   "outputs": [],
   "source": [
    "def _validate_not_nan(dsigma_t: Any) -> Optional[NoReturn]:\n",
    "    if np.isnan(dsigma_t).any():\n",
    "        print(dsigma_t)\n",
    "        raise ValueError(\n",
    "            \"CIR process simulation crashed, check your CIR_params. \"\n",
    "            + \"Maybe choose a smaller c value.\"\n",
    "        )\n",
    "    return None\n",
    "\n",
    "def generateChenVolDrift(\n",
    "    dW: np.ndarray,\n",
    "    a: float,\n",
    "    b: float,\n",
    "    c: float,\n",
    "    sigma_0: float\n",
    "):\n",
    "    N = len(dW)\n",
    "    T = len(dW[0])\n",
    "    sigma_t = np.full((N, T), sigma_0)\n",
    "    for t in range(1, T):\n",
    "        dsigma_t = (\n",
    "            a * (b - sigma_t[:, t-1]) + c*np.sqrt(sigma_t[:,t-1])*dW[:,t]\n",
    "        )\n",
    "        _validate_not_nan(dsigma_t)\n",
    "        sigma_t[:,t] = (sigma_t[:,t-1]+dsigma_t)\n",
    "    return np.asarray(sigma_t)\n",
    "\n",
    "def generateChenRate(\n",
    "    dW: np.ndarray,\n",
    "    kappa: float,\n",
    "    theta: np.ndarray,\n",
    "    sigma: np.ndarray\n",
    "):\n",
    "    N = len(dW)\n",
    "    T = len(dW[0])\n",
    "    rate_t = np.full((N, T), 0)\n",
    "    rate_t[:, 0] = theta[:, 0]\n",
    "    for t in range(1, T):\n",
    "        d_rate_t = (\n",
    "            kappa * (theta[:, t-1] - rate_t[:, t-1]) \n",
    "            + np.sqrt(rate_t[:,t-1])*np.sqrt(sigma[:,t-1])*dW[:,t]\n",
    "        )\n",
    "        rate_t[:,t] = d_rate_t + rate_t[:, t-1]\n",
    "    return np.asarray(rate_t)\n",
    "\n",
    "def getChen(\n",
    "    N: int,\n",
    "    T: int,\n",
    "    params: ChenParams,\n",
    "    random_state: Optional[int] = None\n",
    "):\n",
    "    rand_mat = np.random.randint(1_000_000, size=3)\n",
    "    dW_1 = brownian_motion.get_dW(N, T, rand_mat[0])\n",
    "    dW_2 = brownian_motion.get_dW(N, T, rand_mat[1])\n",
    "    dW_3 = brownian_motion.get_dW(N, T, rand_mat[2])\n",
    "    \n",
    "    sigma = generateChenVolDrift(dW_3, params.mu, params.beta, params.eta, params.beta)\n",
    "    theta = generateChenVolDrift(dW_2, params.nu, params.zeta, params.alpha, params.zeta)\n",
    "    rate = generateChenRate(dW_1, params.kappa, theta, sigma)\n",
    "    \n",
    "    return rate"
   ]
  },
  {
   "cell_type": "code",
   "execution_count": 81,
   "id": "f288ab2e",
   "metadata": {},
   "outputs": [],
   "source": [
    "def estimateChen(rate: np.ndarray, w = 252):\n",
    "    T = len(rate)\n",
    "    \n",
    "    if w >= T:\n",
    "        raise ValueError(\"Window should be shorter than total time\")\n",
    "    \n",
    "    # drift calculation vectorized: faster than pd.rolling\n",
    "    roll_mat = diags(np.full(w, 1/w), np.asarray(range(0,w)), shape=(T-w+1, T)).toarray().T\n",
    "    drift = rate @ roll_mat\n",
    "    \n",
    "    # volatility:\n",
    "    vol = np.asarray(pd.DataFrame(test_proc.T).rolling(w).std()).T[:,(w-1):]\n",
    "    \n",
    "    \n",
    "    \n",
    "    return vol"
   ]
  },
  {
   "cell_type": "code",
   "execution_count": 94,
   "id": "6ab42e1f",
   "metadata": {},
   "outputs": [],
   "source": [
    "test_param = ChenParams(.5,1,10,.5,.5,.5,.1)\n",
    "test_proc = getChen(1,1000,test_param)[0]\n",
    "#test_proc"
   ]
  },
  {
   "cell_type": "code",
   "execution_count": 95,
   "id": "870da734",
   "metadata": {},
   "outputs": [
    {
     "ename": "TypeError",
     "evalue": "object of type 'numpy.int64' has no len()",
     "output_type": "error",
     "traceback": [
      "\u001b[0;31m---------------------------------------------------------------------------\u001b[0m",
      "\u001b[0;31mTypeError\u001b[0m                                 Traceback (most recent call last)",
      "Cell \u001b[0;32mIn[95], line 1\u001b[0m\n\u001b[0;32m----> 1\u001b[0m \u001b[43mestimateChen\u001b[49m\u001b[43m(\u001b[49m\u001b[43mtest_proc\u001b[49m\u001b[43m)\u001b[49m\n",
      "Cell \u001b[0;32mIn[81], line 3\u001b[0m, in \u001b[0;36mestimateChen\u001b[0;34m(rate, w)\u001b[0m\n\u001b[1;32m      1\u001b[0m \u001b[38;5;28;01mdef\u001b[39;00m \u001b[38;5;21mestimateChen\u001b[39m(rate: np\u001b[38;5;241m.\u001b[39mndarray, w \u001b[38;5;241m=\u001b[39m \u001b[38;5;241m252\u001b[39m):\n\u001b[1;32m      2\u001b[0m     N \u001b[38;5;241m=\u001b[39m \u001b[38;5;28mlen\u001b[39m(rate)\n\u001b[0;32m----> 3\u001b[0m     T \u001b[38;5;241m=\u001b[39m \u001b[38;5;28;43mlen\u001b[39;49m\u001b[43m(\u001b[49m\u001b[43mrate\u001b[49m\u001b[43m[\u001b[49m\u001b[38;5;241;43m0\u001b[39;49m\u001b[43m]\u001b[49m\u001b[43m)\u001b[49m\n\u001b[1;32m      5\u001b[0m     \u001b[38;5;28;01mif\u001b[39;00m w \u001b[38;5;241m>\u001b[39m\u001b[38;5;241m=\u001b[39m T:\n\u001b[1;32m      6\u001b[0m         \u001b[38;5;28;01mraise\u001b[39;00m \u001b[38;5;167;01mValueError\u001b[39;00m(\u001b[38;5;124m\"\u001b[39m\u001b[38;5;124mWindow should be shorter than total time\u001b[39m\u001b[38;5;124m\"\u001b[39m)\n",
      "\u001b[0;31mTypeError\u001b[0m: object of type 'numpy.int64' has no len()"
     ]
    }
   ],
   "source": [
    "estimateChen(test_proc)"
   ]
  },
  {
   "cell_type": "code",
   "execution_count": 91,
   "id": "120731af",
   "metadata": {},
   "outputs": [
    {
     "ename": "ValueError",
     "evalue": "operands could not be broadcast together with shapes (100,748) (99,749) ",
     "output_type": "error",
     "traceback": [
      "\u001b[0;31m---------------------------------------------------------------------------\u001b[0m",
      "\u001b[0;31mValueError\u001b[0m                                Traceback (most recent call last)",
      "Cell \u001b[0;32mIn[91], line 1\u001b[0m\n\u001b[0;32m----> 1\u001b[0m \u001b[43mestimate_CIR_params\u001b[49m\u001b[43m(\u001b[49m\u001b[43mnp\u001b[49m\u001b[38;5;241;43m.\u001b[39;49m\u001b[43masarray\u001b[49m\u001b[43m(\u001b[49m\u001b[43mpd\u001b[49m\u001b[38;5;241;43m.\u001b[39;49m\u001b[43mDataFrame\u001b[49m\u001b[43m(\u001b[49m\u001b[43mtest_proc\u001b[49m\u001b[38;5;241;43m.\u001b[39;49m\u001b[43mT\u001b[49m\u001b[43m)\u001b[49m\u001b[38;5;241;43m.\u001b[39;49m\u001b[43mrolling\u001b[49m\u001b[43m(\u001b[49m\u001b[38;5;241;43m252\u001b[39;49m\u001b[43m)\u001b[49m\u001b[38;5;241;43m.\u001b[39;49m\u001b[43mstd\u001b[49m\u001b[43m(\u001b[49m\u001b[43m)\u001b[49m\u001b[43m)\u001b[49m\u001b[38;5;241;43m.\u001b[39;49m\u001b[43mT\u001b[49m\u001b[43m[\u001b[49m\u001b[43m:\u001b[49m\u001b[43m,\u001b[49m\u001b[38;5;241;43m251\u001b[39;49m\u001b[43m:\u001b[49m\u001b[43m]\u001b[49m\u001b[43m)\u001b[49m\n",
      "Cell \u001b[0;32mIn[90], line 13\u001b[0m, in \u001b[0;36mestimate_CIR_params\u001b[0;34m(sigma_t)\u001b[0m\n\u001b[1;32m     11\u001b[0m \u001b[38;5;66;03m# define regression specification\u001b[39;00m\n\u001b[1;32m     12\u001b[0m sigma_sqrt \u001b[38;5;241m=\u001b[39m np\u001b[38;5;241m.\u001b[39msqrt(sigma_t[:\u001b[38;5;241m-\u001b[39m\u001b[38;5;241m1\u001b[39m])\n\u001b[0;32m---> 13\u001b[0m y \u001b[38;5;241m=\u001b[39m \u001b[43mnp\u001b[49m\u001b[38;5;241;43m.\u001b[39;49m\u001b[43mdiff\u001b[49m\u001b[43m(\u001b[49m\u001b[43msigma_t\u001b[49m\u001b[43m)\u001b[49m\u001b[43m \u001b[49m\u001b[38;5;241;43m/\u001b[39;49m\u001b[43m \u001b[49m\u001b[43msigma_sqrt\u001b[49m\n\u001b[1;32m     14\u001b[0m x1 \u001b[38;5;241m=\u001b[39m \u001b[38;5;241m1.0\u001b[39m \u001b[38;5;241m/\u001b[39m sigma_sqrt\n\u001b[1;32m     15\u001b[0m x2 \u001b[38;5;241m=\u001b[39m sigma_sqrt\n",
      "\u001b[0;31mValueError\u001b[0m: operands could not be broadcast together with shapes (100,748) (99,749) "
     ]
    }
   ],
   "source": [
    "estimate_CIR_params(np.asarray(pd.DataFrame(test_proc.T).rolling(252).std()).T[:,251:])"
   ]
  },
  {
   "cell_type": "code",
   "execution_count": null,
   "id": "48bb520a",
   "metadata": {},
   "outputs": [],
   "source": []
  },
  {
   "cell_type": "code",
   "execution_count": 8,
   "id": "b3b91eb4",
   "metadata": {},
   "outputs": [
    {
     "data": {
      "text/plain": [
       "array([[1., 0., 0.],\n",
       "       [2., 1., 0.],\n",
       "       [3., 2., 1.],\n",
       "       [0., 3., 2.],\n",
       "       [0., 0., 3.]])"
      ]
     },
     "execution_count": 8,
     "metadata": {},
     "output_type": "execute_result"
    }
   ],
   "source": [
    "diags([1, 2, 3], [0, 1, 2], shape=(3,5)).toarray().T"
   ]
  },
  {
   "cell_type": "code",
   "execution_count": 3,
   "id": "b89a9e0b",
   "metadata": {},
   "outputs": [
    {
     "data": {
      "text/plain": [
       "array([  0.,   1.,   2.,   3.,   4.,   5.,   6.,   7.,   8.,   9.,  10.,\n",
       "        11.,  12.,  13.,  14.,  15.,  16.,  17.,  18.,  19.,  20.,  21.,\n",
       "        22.,  23.,  24.,  25.,  26.,  27.,  28.,  29.,  30.,  31.,  32.,\n",
       "        33.,  34.,  35.,  36.,  37.,  38.,  39.,  40.,  41.,  42.,  43.,\n",
       "        44.,  45.,  46.,  47.,  48.,  49.,  50.,  51.,  52.,  53.,  54.,\n",
       "        55.,  56.,  57.,  58.,  59.,  60.,  61.,  62.,  63.,  64.,  65.,\n",
       "        66.,  67.,  68.,  69.,  70.,  71.,  72.,  73.,  74.,  75.,  76.,\n",
       "        77.,  78.,  79.,  80.,  81.,  82.,  83.,  84.,  85.,  86.,  87.,\n",
       "        88.,  89.,  90.,  91.,  92.,  93.,  94.,  95.,  96.,  97.,  98.,\n",
       "        99., 100., 101., 102., 103., 104., 105., 106., 107., 108., 109.,\n",
       "       110., 111., 112., 113., 114., 115., 116., 117., 118., 119., 120.,\n",
       "       121., 122., 123., 124., 125., 126., 127., 128., 129., 130., 131.,\n",
       "       132., 133., 134., 135., 136., 137., 138., 139., 140., 141., 142.,\n",
       "       143., 144., 145., 146., 147., 148., 149., 150., 151., 152., 153.,\n",
       "       154., 155., 156., 157., 158., 159., 160., 161., 162., 163., 164.,\n",
       "       165., 166., 167., 168., 169., 170., 171., 172., 173., 174., 175.,\n",
       "       176., 177., 178., 179., 180., 181., 182., 183., 184., 185., 186.,\n",
       "       187., 188., 189., 190., 191., 192., 193., 194., 195., 196., 197.,\n",
       "       198., 199., 200., 201., 202., 203., 204., 205., 206., 207., 208.,\n",
       "       209., 210., 211., 212., 213., 214., 215., 216., 217., 218., 219.,\n",
       "       220., 221., 222., 223., 224., 225., 226., 227., 228., 229., 230.,\n",
       "       231., 232., 233., 234., 235., 236., 237., 238., 239., 240., 241.,\n",
       "       242., 243., 244., 245., 246., 247., 248., 249., 250., 251.])"
      ]
     },
     "execution_count": 3,
     "metadata": {},
     "output_type": "execute_result"
    }
   ],
   "source": [
    "np.linspace(0, 251, 252)"
   ]
  },
  {
   "cell_type": "code",
   "execution_count": 7,
   "id": "06221008",
   "metadata": {},
   "outputs": [
    {
     "data": {
      "text/plain": [
       "array([  0,   1,   2,   3,   4,   5,   6,   7,   8,   9,  10,  11,  12,\n",
       "        13,  14,  15,  16,  17,  18,  19,  20,  21,  22,  23,  24,  25,\n",
       "        26,  27,  28,  29,  30,  31,  32,  33,  34,  35,  36,  37,  38,\n",
       "        39,  40,  41,  42,  43,  44,  45,  46,  47,  48,  49,  50,  51,\n",
       "        52,  53,  54,  55,  56,  57,  58,  59,  60,  61,  62,  63,  64,\n",
       "        65,  66,  67,  68,  69,  70,  71,  72,  73,  74,  75,  76,  77,\n",
       "        78,  79,  80,  81,  82,  83,  84,  85,  86,  87,  88,  89,  90,\n",
       "        91,  92,  93,  94,  95,  96,  97,  98,  99, 100, 101, 102, 103,\n",
       "       104, 105, 106, 107, 108, 109, 110, 111, 112, 113, 114, 115, 116,\n",
       "       117, 118, 119, 120, 121, 122, 123, 124, 125, 126, 127, 128, 129,\n",
       "       130, 131, 132, 133, 134, 135, 136, 137, 138, 139, 140, 141, 142,\n",
       "       143, 144, 145, 146, 147, 148, 149, 150, 151, 152, 153, 154, 155,\n",
       "       156, 157, 158, 159, 160, 161, 162, 163, 164, 165, 166, 167, 168,\n",
       "       169, 170, 171, 172, 173, 174, 175, 176, 177, 178, 179, 180, 181,\n",
       "       182, 183, 184, 185, 186, 187, 188, 189, 190, 191, 192, 193, 194,\n",
       "       195, 196, 197, 198, 199, 200, 201, 202, 203, 204, 205, 206, 207,\n",
       "       208, 209, 210, 211, 212, 213, 214, 215, 216, 217, 218, 219, 220,\n",
       "       221, 222, 223, 224, 225, 226, 227, 228, 229, 230, 231, 232, 233,\n",
       "       234, 235, 236, 237, 238, 239, 240, 241, 242, 243, 244, 245, 246,\n",
       "       247, 248, 249, 250, 251])"
      ]
     },
     "execution_count": 7,
     "metadata": {},
     "output_type": "execute_result"
    }
   ],
   "source": []
  },
  {
   "cell_type": "code",
   "execution_count": null,
   "id": "051d35dc",
   "metadata": {},
   "outputs": [],
   "source": []
  }
 ],
 "metadata": {
  "kernelspec": {
   "display_name": "Python 3 (ipykernel)",
   "language": "python",
   "name": "python3"
  },
  "language_info": {
   "codemirror_mode": {
    "name": "ipython",
    "version": 3
   },
   "file_extension": ".py",
   "mimetype": "text/x-python",
   "name": "python",
   "nbconvert_exporter": "python",
   "pygments_lexer": "ipython3",
   "version": "3.9.6"
  }
 },
 "nbformat": 4,
 "nbformat_minor": 5
}
