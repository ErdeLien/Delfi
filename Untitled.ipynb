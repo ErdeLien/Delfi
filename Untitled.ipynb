{
 "cells": [
  {
   "cell_type": "code",
   "execution_count": 19,
   "id": "23650fd1",
   "metadata": {},
   "outputs": [],
   "source": [
    "import pandas as pd\n",
    "import numpy as np\n",
    "import matplotlib.pyplot as plt\n",
    "from sklearn.decomposition import PCA\n",
    "from sklearn.preprocessing import StandardScaler\n",
    "%matplotlib inline"
   ]
  },
  {
   "cell_type": "code",
   "execution_count": 33,
   "id": "f4858d6a",
   "metadata": {},
   "outputs": [],
   "source": [
    "path = \"Interest rate.xlsx\"\n",
    "col_names = [\"30yr\",\"10yr\",\"5yr\",\"2yr\",\"1yr\",\"6mo\",\"3mo_libor\",\"3mo_sofr\",\"1mo_libor\", \"1mo_sofr\"]\n",
    "\n",
    "df_libor = pd.read_excel(path,sheet_name=\"1d\")\n",
    "df_sofr = pd.read_excel(path,sheet_name=\"1d\")\n",
    "for i in col_names:\n",
    "    if \"libor\" in i:\n",
    "        df_libor[i] = pd.read_excel(path, sheet_name=i)[\"Last Price\"]\n",
    "        continue\n",
    "    if \"sofr\" in i:\n",
    "        df_sofr[i] = pd.read_excel(path, sheet_name=i)[\"Last Price\"]\n",
    "        continue\n",
    "    df_libor[i] = pd.read_excel(path, sheet_name=i)[\"Last Price\"]\n",
    "    df_sofr[i] = pd.read_excel(path, sheet_name=i)[\"Last Price\"]\n",
    "\n",
    "df_libor = df_libor.dropna(axis=0, how=\"any\").loc[:,\"Mid Price\":\"1mo_libor\"]\n",
    "df_sofr = df_sofr.dropna(axis=0, how=\"any\").loc[:,\"Mid Price\":\"1mo_sofr\"]"
   ]
  },
  {
   "cell_type": "code",
   "execution_count": 295,
   "id": "3d59c460",
   "metadata": {},
   "outputs": [
    {
     "data": {
      "text/html": [
       "<div>\n",
       "<style scoped>\n",
       "    .dataframe tbody tr th:only-of-type {\n",
       "        vertical-align: middle;\n",
       "    }\n",
       "\n",
       "    .dataframe tbody tr th {\n",
       "        vertical-align: top;\n",
       "    }\n",
       "\n",
       "    .dataframe thead th {\n",
       "        text-align: right;\n",
       "    }\n",
       "</style>\n",
       "<table border=\"1\" class=\"dataframe\">\n",
       "  <thead>\n",
       "    <tr style=\"text-align: right;\">\n",
       "      <th></th>\n",
       "      <th>Date</th>\n",
       "      <th>Mid Price</th>\n",
       "    </tr>\n",
       "  </thead>\n",
       "  <tbody>\n",
       "    <tr>\n",
       "      <th>0</th>\n",
       "      <td>2022-11-08</td>\n",
       "      <td>3.83</td>\n",
       "    </tr>\n",
       "    <tr>\n",
       "      <th>1</th>\n",
       "      <td>2022-11-07</td>\n",
       "      <td>3.83</td>\n",
       "    </tr>\n",
       "    <tr>\n",
       "      <th>2</th>\n",
       "      <td>2022-11-04</td>\n",
       "      <td>3.83</td>\n",
       "    </tr>\n",
       "    <tr>\n",
       "      <th>3</th>\n",
       "      <td>2022-11-03</td>\n",
       "      <td>3.83</td>\n",
       "    </tr>\n",
       "    <tr>\n",
       "      <th>4</th>\n",
       "      <td>2022-11-02</td>\n",
       "      <td>3.08</td>\n",
       "    </tr>\n",
       "    <tr>\n",
       "      <th>...</th>\n",
       "      <td>...</td>\n",
       "      <td>...</td>\n",
       "    </tr>\n",
       "    <tr>\n",
       "      <th>17519</th>\n",
       "      <td>1954-07-07</td>\n",
       "      <td>1.00</td>\n",
       "    </tr>\n",
       "    <tr>\n",
       "      <th>17520</th>\n",
       "      <td>1954-07-06</td>\n",
       "      <td>0.25</td>\n",
       "    </tr>\n",
       "    <tr>\n",
       "      <th>17521</th>\n",
       "      <td>1954-07-05</td>\n",
       "      <td>0.88</td>\n",
       "    </tr>\n",
       "    <tr>\n",
       "      <th>17522</th>\n",
       "      <td>1954-07-02</td>\n",
       "      <td>1.25</td>\n",
       "    </tr>\n",
       "    <tr>\n",
       "      <th>17523</th>\n",
       "      <td>1954-07-01</td>\n",
       "      <td>1.13</td>\n",
       "    </tr>\n",
       "  </tbody>\n",
       "</table>\n",
       "<p>17524 rows × 2 columns</p>\n",
       "</div>"
      ],
      "text/plain": [
       "            Date  Mid Price\n",
       "0     2022-11-08       3.83\n",
       "1     2022-11-07       3.83\n",
       "2     2022-11-04       3.83\n",
       "3     2022-11-03       3.83\n",
       "4     2022-11-02       3.08\n",
       "...          ...        ...\n",
       "17519 1954-07-07       1.00\n",
       "17520 1954-07-06       0.25\n",
       "17521 1954-07-05       0.88\n",
       "17522 1954-07-02       1.25\n",
       "17523 1954-07-01       1.13\n",
       "\n",
       "[17524 rows x 2 columns]"
      ]
     },
     "execution_count": 295,
     "metadata": {},
     "output_type": "execute_result"
    }
   ],
   "source": [
    "df_libor = pd.read_excel(path,sheet_name=\"1d\")\n",
    "df_libor"
   ]
  },
  {
   "cell_type": "code",
   "execution_count": 319,
   "id": "98e7c3ee",
   "metadata": {},
   "outputs": [],
   "source": [
    "def dataset(path, exclu, inclu, drop):\n",
    "    col_names = [\"30yr\",\"10yr\",\"5yr\",\"2yr\",\"1yr\",\"6mo\",\"3mo_libor\",\"3mo_sofr\",\"1mo_libor\", \"1mo_sofr\"]\n",
    "    df = pd.read_excel(path,sheet_name=\"1d\")\n",
    "    for i in col_names:\n",
    "        if exclu in i:\n",
    "            continue\n",
    "        df_merge = pd.read_excel(path, sheet_name=i)\n",
    "        #display(df_merge.head())\n",
    "        df = df.merge(df_merge, how=\"left\", on=\"Date\")\n",
    "        df = df.rename(columns={df.columns[-1]: i})\n",
    "    if drop:\n",
    "        df = df.dropna(axis=0, how=\"any\").loc[:,\"Mid Price\":(\"1mo_\"+inclu)]\n",
    "    return df"
   ]
  },
  {
   "cell_type": "markdown",
   "id": "c808c66b",
   "metadata": {},
   "source": [
    "keep all positive with dfjklaifd kdsdi lsl igjkdi fjkdsligo  jsieidl i ksldig skdlig lsl  j"
   ]
  },
  {
   "cell_type": "code",
   "execution_count": 337,
   "id": "45b1825c",
   "metadata": {},
   "outputs": [
    {
     "data": {
      "text/plain": [
       "<AxesSubplot:>"
      ]
     },
     "execution_count": 337,
     "metadata": {},
     "output_type": "execute_result"
    },
    {
     "data": {
      "image/png": "[encoded data removed]",
      "text/plain": [
       "<Figure size 432x288 with 1 Axes>"
      ]
     },
     "metadata": {
      "needs_background": "light"
     },
     "output_type": "display_data"
    }
   ],
   "source": [
    "df_sofr = dataset(path, \"libor\", \"sofr\", True)\n",
    "df_sofr.plot()"
   ]
  },
  {
   "cell_type": "code",
   "execution_count": 325,
   "id": "4f14df11",
   "metadata": {},
   "outputs": [
    {
     "data": {
      "text/plain": [
       "<AxesSubplot:>"
      ]
     },
     "execution_count": 325,
     "metadata": {},
     "output_type": "execute_result"
    },
    {
     "data": {
      "image/png": "[encoded data removed]",
      "text/plain": [
       "<Figure size 432x288 with 1 Axes>"
      ]
     },
     "metadata": {
      "needs_background": "light"
     },
     "output_type": "display_data"
    }
   ],
   "source": [
    "# only sofr below\n",
    "\n",
    "pca = PCA(n_components=3)\n",
    "components = pca.fit_transform(df_sofr)\n",
    "df_components = pd.DataFrame(data=components, columns=['Level', 'Slope', 'Curvature'])\n",
    "df_components.plot() #???"
   ]
  },
  {
   "cell_type": "markdown",
   "id": "58305208",
   "metadata": {},
   "source": [
    "### CIR"
   ]
  },
  {
   "cell_type": "code",
   "execution_count": 326,
   "id": "a1213ce5",
   "metadata": {},
   "outputs": [],
   "source": [
    "from dataclasses import dataclass\n",
    "from typing import Optional, NoReturn\n",
    "\n",
    "\n",
    "@dataclass\n",
    "class CIRParams:\n",
    "    \"\"\"CIR process params, 2ab has to be larger or equal then c^2.\"\"\"\n",
    "\n",
    "    a: float  # mean reversion parameter\n",
    "    b: float  # asymptotic mean\n",
    "    c: float  # Brownian motion scale factor (standard deviation)\n",
    "\n",
    "    def __post_init__(self) -> Optional[NoReturn]:\n",
    "        if 2 * self.a * self.b < self.c ** 2:\n",
    "            raise ValueError(\"2ab has to be less than or equal to c^2.\")\n",
    "        return None"
   ]
  },
  {
   "cell_type": "code",
   "execution_count": 327,
   "id": "017e61b5",
   "metadata": {},
   "outputs": [],
   "source": [
    "from typing import Optional, NoReturn, Any\n",
    "\n",
    "import numpy as np\n",
    "\n",
    "import brownian_motion\n",
    "\n",
    "def get_CIR_process(\n",
    "    T: int,\n",
    "    CIR_params: CIRParams,\n",
    "    sigma_0: Optional[float] = None,\n",
    "    random_state: Optional[int] = None,\n",
    ") -> np.ndarray:\n",
    "    \"\"\"\n",
    "    - T is the sample size.\n",
    "    - CIR_params is an instance of CIRParams dataclass.\n",
    "    - sigma_0 the initial value for the process, if None, then sigma_0 is taken\n",
    "        to be b (the asymptotic mean).\n",
    "    Returns a 1D array.\n",
    "    \"\"\"\n",
    "    dW = brownian_motion.get_dW(T, random_state)\n",
    "    return _generate_CIR_process(dW, CIR_params, sigma_0)\n",
    "\n",
    "\n",
    "def _generate_CIR_process(\n",
    "    dW: np.ndarray,\n",
    "    CIR_params: CIRParams,\n",
    "    sigma_0: Optional[float] = None,\n",
    ") -> np.ndarray:\n",
    "    \"\"\"\n",
    "    Generate the CIR process given the Brownian motion.\n",
    "    - dW is a 1D array with the Brownian motion increments.\n",
    "    - CIR_params is an instance of CIRParams dataclass.\n",
    "    - sigma_0 the initial value for the process, if None, then sigma_0 is taken\n",
    "        to be b (the asymptotic mean).\n",
    "    Returns a 1D array.\n",
    "    \"\"\"\n",
    "    T = len(dW)\n",
    "    _sigma_0 = _select_sigma_0(sigma_0, CIR_params)\n",
    "    sigma_t = [_sigma_0]\n",
    "    for t in range(1, T):\n",
    "        dsigma_t = (\n",
    "            CIR_params.a * (CIR_params.b - sigma_t[t - 1])\n",
    "            + CIR_params.c * np.sqrt(sigma_t[t - 1]) * dW[t]\n",
    "        )\n",
    "        # if Nan in simulation raise an error.\n",
    "        _validate_not_nan(dsigma_t)\n",
    "        sigma_t.append(sigma_t[t - 1] + dsigma_t)\n",
    "    return np.asarray(sigma_t)\n",
    "\n",
    "\n",
    "def _select_sigma_0(\n",
    "    sigma_0_in: Optional[float], CIR_params: CIRParams\n",
    ") -> float:\n",
    "    \"\"\"Returns sigma_0input if not None, else b (the long term mean).\"\"\"\n",
    "    if sigma_0_in is not None:\n",
    "        return sigma_0_in\n",
    "    return CIR_params.b\n",
    "\n",
    "\n",
    "def _validate_not_nan(dsigma_t: Any) -> Optional[NoReturn]:\n",
    "    if np.isnan(dsigma_t):\n",
    "        raise ValueError(\n",
    "            \"CIR process simulation crashed, check your CIR_params. \"\n",
    "            + \"Maybe choose a smaller c value.\"\n",
    "        )\n",
    "    return None"
   ]
  },
  {
   "cell_type": "code",
   "execution_count": 328,
   "id": "5a81c0dc",
   "metadata": {},
   "outputs": [],
   "source": [
    "import numpy as np\n",
    "from sklearn.linear_model import LinearRegression\n",
    "\n",
    "\n",
    "def estimate_CIR_params(sigma_t: np.ndarray) -> CIRParams:\n",
    "    \"\"\"\n",
    "    Estimate CIR params from OLS regression.\n",
    "    - sigma_t is 1D array.\n",
    "    Returns instance of CIRParams.\n",
    "    \"\"\"\n",
    "    # define regression specification\n",
    "    sigma_sqrt = np.sqrt(sigma_t[:-1])\n",
    "    y = np.diff(sigma_t) / sigma_sqrt\n",
    "    x1 = 1.0 / sigma_sqrt\n",
    "    x2 = sigma_sqrt\n",
    "    X = np.concatenate([x1.reshape(-1, 1), x2.reshape(-1, 1)], axis=1)\n",
    "    # regression model\n",
    "    reg = LinearRegression(fit_intercept=False)\n",
    "    reg.fit(X, y)\n",
    "    # regression coefficients\n",
    "    ab = reg.coef_[0]\n",
    "    a = -reg.coef_[1]\n",
    "    b = ab / a\n",
    "    # residuals and their standard deviation\n",
    "    y_hat = reg.predict(X)\n",
    "    c = np.std(y - y_hat)\n",
    "    return CIRParams(a, b, c)"
   ]
  },
  {
   "cell_type": "markdown",
   "id": "67739841",
   "metadata": {},
   "source": [
    "### OU"
   ]
  },
  {
   "cell_type": "code",
   "execution_count": 329,
   "id": "cb74dd98",
   "metadata": {},
   "outputs": [],
   "source": [
    "from dataclasses import dataclass\n",
    "from typing import Optional, NoReturn\n",
    "\n",
    "\n",
    "@dataclass\n",
    "class OUParams:\n",
    "    \"\"\"OU process params.\"\"\"\n",
    "\n",
    "    a: float  # mean reversion parameter\n",
    "    b: float  # asymptotic mean\n",
    "    c: float"
   ]
  },
  {
   "cell_type": "code",
   "execution_count": 330,
   "id": "5aebac2c",
   "metadata": {},
   "outputs": [],
   "source": [
    "from typing import Optional, NoReturn, Any\n",
    "\n",
    "import numpy as np\n",
    "\n",
    "import brownian_motion\n",
    "\n",
    "def get_OU_process(\n",
    "    T: int,\n",
    "    OU_params: OUParams,\n",
    "    sigma_0: Optional[float] = None,\n",
    "    random_state: Optional[int] = None,\n",
    ") -> np.ndarray:\n",
    "    \"\"\"\n",
    "    - T is the sample size.\n",
    "    - OU_params is an instance of OUParams dataclass.\n",
    "    - sigma_0 the initial value for the process, if None, then sigma_0 is taken\n",
    "        to be b (the asymptotic mean).\n",
    "    Returns a 1D array.\n",
    "    \"\"\"\n",
    "    dW = brownian_motion.get_dW(T, random_state)\n",
    "    #print(dW)\n",
    "    return _generate_OU_process(dW, OU_params, sigma_0)\n",
    "\n",
    "\n",
    "def _generate_OU_process(\n",
    "    dW: np.ndarray,\n",
    "    OU_params: OUParams,\n",
    "    sigma_0: Optional[float] = None,\n",
    ") -> np.ndarray:\n",
    "    \"\"\"\n",
    "    Generate the OU process given the Brownian motion.\n",
    "    - dW is a 1D array with the Brownian motion increments.\n",
    "    - OU_params is an instance of OUParams dataclass.\n",
    "    - sigma_0 the initial value for the process, if None, then sigma_0 is taken\n",
    "        to be b (the asymptotic mean).\n",
    "    Returns a 1D array.\n",
    "    \"\"\"\n",
    "    T = len(dW)\n",
    "    _sigma_0 = _select_sigma_0(sigma_0, OU_params)\n",
    "    sigma_t = [_sigma_0]\n",
    "    for t in range(1, T):\n",
    "        dsigma_t = (\n",
    "            OU_params.a * (OU_params.b - sigma_t[t - 1]) + OU_params.c * dW[t]\n",
    "        )\n",
    "        # if Nan in simulation raise an error.\n",
    "        #_validate_not_nan(dsigma_t)\n",
    "        sigma_t.append(sigma_t[t - 1] + dsigma_t)\n",
    "    return np.asarray(sigma_t)\n",
    "\n",
    "\n",
    "def _select_sigma_0(\n",
    "    sigma_0_in: Optional[float], OU_params: OUParams\n",
    ") -> float:\n",
    "    \"\"\"Returns sigma_0input if not None, else b (the long term mean).\"\"\"\n",
    "    if sigma_0_in is not None:\n",
    "        return sigma_0_in\n",
    "    return OU_params.b\n",
    "\n",
    "\n",
    "#def _validate_not_nan(dsigma_t: Any) -> Optional[NoReturn]:\n",
    "#    if np.isnan(dsigma_t):\n",
    "#        raise ValueError(\n",
    "#            \"OU process simulation crashed, check your OU_params. \"\n",
    "#            + \"Maybe choose a smaller c value.\"\n",
    "#        )\n",
    "#    return None"
   ]
  },
  {
   "cell_type": "code",
   "execution_count": 331,
   "id": "261448ba",
   "metadata": {},
   "outputs": [],
   "source": [
    "import numpy as np\n",
    "from sklearn.linear_model import LinearRegression\n",
    "\n",
    "\n",
    "def estimate_OU_params(sigma_t: np.ndarray) -> OUParams:\n",
    "    \"\"\"\n",
    "    Estimate OU params from OLS regression.\n",
    "    - sigma_t is 1D array.\n",
    "    Returns instance of CIRParams.\n",
    "    \"\"\"\n",
    "    # define regression specification\n",
    "    sigma = sigma_t[:-1]\n",
    "    y = np.diff(sigma_t)\n",
    "    x2 = sigma\n",
    "    x1 = np.array([1.0]*len(x2))\n",
    "    X = np.concatenate([x1.reshape(-1, 1), x2.reshape(-1, 1)], axis=1)\n",
    "    # regression model\n",
    "    reg = LinearRegression(fit_intercept=False)\n",
    "    reg.fit(X, y)\n",
    "    # regression coefficients\n",
    "    ab = reg.coef_[0]\n",
    "    a = -reg.coef_[1]\n",
    "    b = ab / a\n",
    "    # residuals and their standard deviation\n",
    "    y_hat = reg.predict(X)\n",
    "    c = np.std(y - y_hat)\n",
    "    return OUParams(a, b, c)"
   ]
  },
  {
   "cell_type": "code",
   "execution_count": 336,
   "id": "ecd7429d",
   "metadata": {},
   "outputs": [
    {
     "name": "stdout",
     "output_type": "stream",
     "text": [
      "OUParams(a=0.002693528315806623, b=-0.11192220190913271, c=0.08051527169497547)\n",
      "OUParams(a=0.012612908057074853, b=0.0054827126518134615, c=0.05708956665619632)\n"
     ]
    },
    {
     "data": {
      "text/plain": [
       "<AxesSubplot:>"
      ]
     },
     "execution_count": 336,
     "metadata": {},
     "output_type": "execute_result"
    },
    {
     "data": {
      "image/png": "[encoded data removed]",
      "text/plain": [
       "<Figure size 432x288 with 1 Axes>"
      ]
     },
     "metadata": {
      "needs_background": "light"
     },
     "output_type": "display_data"
    }
   ],
   "source": [
    "proc_slope = df_components.Slope.to_numpy()\n",
    "proc_curvature = df_components.Curvature.to_numpy()\n",
    "\n",
    "est_param_slope = estimate_OU_params(proc_slope)\n",
    "est_param_curvature = estimate_OU_params(proc_curvature)\n",
    "print(est_param_slope)\n",
    "print(est_param_curvature)\n",
    "\n",
    "sim_slope = get_OU_process(len(df_components), est_param_slope)\n",
    "sim_curvature = get_OU_process(len(df_components), est_param_curvature)\n",
    "\n",
    "#x1 = np.linspace(0,len(df_components)-1,len(df_components))\n",
    "#x2 = np.linspace(0,len(df_components)-1,len(df_components))\n",
    "#plt.plot(x1, sim_slope)\n",
    "#plt.plot(x2, sim_curvature)\n",
    "#plt.show()\n",
    "\n",
    "temp = pd.DataFrame({\"Simulated Slope\": sim_slope, \"Simulated Curvature\": sim_curvature})\n",
    "temp.plot()\n",
    "\n",
    "#plt.plot(sim_curvature)"
   ]
  },
  {
   "cell_type": "code",
   "execution_count": 333,
   "id": "e5c662de",
   "metadata": {},
   "outputs": [
    {
     "data": {
      "text/plain": [
       "<AxesSubplot:>"
      ]
     },
     "execution_count": 333,
     "metadata": {},
     "output_type": "execute_result"
    },
    {
     "data": {
      "image/png": "[encoded data removed]",
      "text/plain": [
       "<Figure size 432x288 with 1 Axes>"
      ]
     },
     "metadata": {
      "needs_background": "light"
     },
     "output_type": "display_data"
    }
   ],
   "source": [
    "df_components.plot(y=[\"Slope\", \"Curvature\"])"
   ]
  },
  {
   "cell_type": "code",
   "execution_count": 97,
   "id": "be2b305a",
   "metadata": {},
   "outputs": [
    {
     "data": {
      "text/plain": [
       "1000"
      ]
     },
     "execution_count": 97,
     "metadata": {},
     "output_type": "execute_result"
    }
   ],
   "source": [
    "1_000"
   ]
  },
  {
   "cell_type": "code",
   "execution_count": 98,
   "id": "dde3e8fa",
   "metadata": {},
   "outputs": [
    {
     "data": {
      "text/plain": [
       "6116"
      ]
     },
     "execution_count": 98,
     "metadata": {},
     "output_type": "execute_result"
    }
   ],
   "source": [
    "len(df_components)"
   ]
  },
  {
   "cell_type": "code",
   "execution_count": null,
   "id": "6b430c7f",
   "metadata": {},
   "outputs": [],
   "source": []
  },
  {
   "cell_type": "code",
   "execution_count": null,
   "id": "7a2421be",
   "metadata": {},
   "outputs": [],
   "source": []
  },
  {
   "cell_type": "code",
   "execution_count": 84,
   "id": "51918e2f",
   "metadata": {},
   "outputs": [
    {
     "data": {
      "text/plain": [
       "OUParams(a=0.051307254225921424, b=0.5062038259112392, c=0.020146771382880613)"
      ]
     },
     "execution_count": 84,
     "metadata": {},
     "output_type": "execute_result"
    }
   ],
   "source": [
    "OU_params = OUParams(a=0.05, b=0.5, c=0.02)\n",
    "OU_proc = get_OU_process(1_000, OU_params, random_state=3)\n",
    "OU_proc\n",
    "OU_params_hat = estimate_OU_params(OU_proc)\n",
    "OU_params_hat\n",
    "#np.array([1.0]*5)"
   ]
  },
  {
   "cell_type": "code",
   "execution_count": 35,
   "id": "69f6f36f",
   "metadata": {},
   "outputs": [
    {
     "data": {
      "text/html": [
       "<div>\n",
       "<style scoped>\n",
       "    .dataframe tbody tr th:only-of-type {\n",
       "        vertical-align: middle;\n",
       "    }\n",
       "\n",
       "    .dataframe tbody tr th {\n",
       "        vertical-align: top;\n",
       "    }\n",
       "\n",
       "    .dataframe thead th {\n",
       "        text-align: right;\n",
       "    }\n",
       "</style>\n",
       "<table border=\"1\" class=\"dataframe\">\n",
       "  <thead>\n",
       "    <tr style=\"text-align: right;\">\n",
       "      <th></th>\n",
       "      <th>Mid Price</th>\n",
       "      <th>30yr</th>\n",
       "      <th>10yr</th>\n",
       "      <th>5yr</th>\n",
       "      <th>2yr</th>\n",
       "      <th>1yr</th>\n",
       "      <th>6mo</th>\n",
       "      <th>3mo_sofr</th>\n",
       "      <th>1mo_sofr</th>\n",
       "    </tr>\n",
       "  </thead>\n",
       "  <tbody>\n",
       "    <tr>\n",
       "      <th>0</th>\n",
       "      <td>3.83</td>\n",
       "      <td>4.2671</td>\n",
       "      <td>4.1689</td>\n",
       "      <td>4.3344</td>\n",
       "      <td>4.6563</td>\n",
       "      <td>4.7144</td>\n",
       "      <td>4.5497</td>\n",
       "      <td>0.04923</td>\n",
       "      <td>0.04759</td>\n",
       "    </tr>\n",
       "    <tr>\n",
       "      <th>1</th>\n",
       "      <td>3.83</td>\n",
       "      <td>4.1812</td>\n",
       "      <td>4.1469</td>\n",
       "      <td>4.3677</td>\n",
       "      <td>4.7138</td>\n",
       "      <td>4.7565</td>\n",
       "      <td>4.5806</td>\n",
       "      <td>0.04924</td>\n",
       "      <td>0.04767</td>\n",
       "    </tr>\n",
       "    <tr>\n",
       "      <th>2</th>\n",
       "      <td>3.83</td>\n",
       "      <td>4.1405</td>\n",
       "      <td>4.1005</td>\n",
       "      <td>4.3093</td>\n",
       "      <td>4.6197</td>\n",
       "      <td>4.6945</td>\n",
       "      <td>4.5520</td>\n",
       "      <td>0.04924</td>\n",
       "      <td>0.04767</td>\n",
       "    </tr>\n",
       "    <tr>\n",
       "      <th>3</th>\n",
       "      <td>3.83</td>\n",
       "      <td>4.0919</td>\n",
       "      <td>4.0419</td>\n",
       "      <td>4.2670</td>\n",
       "      <td>4.5447</td>\n",
       "      <td>4.6258</td>\n",
       "      <td>4.5838</td>\n",
       "      <td>0.04924</td>\n",
       "      <td>0.04767</td>\n",
       "    </tr>\n",
       "    <tr>\n",
       "      <th>4</th>\n",
       "      <td>3.08</td>\n",
       "      <td>4.1639</td>\n",
       "      <td>4.0478</td>\n",
       "      <td>4.2283</td>\n",
       "      <td>4.4824</td>\n",
       "      <td>4.6019</td>\n",
       "      <td>4.5359</td>\n",
       "      <td>0.04924</td>\n",
       "      <td>0.04807</td>\n",
       "    </tr>\n",
       "    <tr>\n",
       "      <th>...</th>\n",
       "      <td>...</td>\n",
       "      <td>...</td>\n",
       "      <td>...</td>\n",
       "      <td>...</td>\n",
       "      <td>...</td>\n",
       "      <td>...</td>\n",
       "      <td>...</td>\n",
       "      <td>...</td>\n",
       "      <td>...</td>\n",
       "    </tr>\n",
       "    <tr>\n",
       "      <th>6111</th>\n",
       "      <td>5.51</td>\n",
       "      <td>5.7900</td>\n",
       "      <td>5.5500</td>\n",
       "      <td>5.5450</td>\n",
       "      <td>5.5120</td>\n",
       "      <td>5.4650</td>\n",
       "      <td>5.2920</td>\n",
       "      <td>5.50779</td>\n",
       "      <td>5.45019</td>\n",
       "    </tr>\n",
       "    <tr>\n",
       "      <th>6112</th>\n",
       "      <td>5.65</td>\n",
       "      <td>5.7770</td>\n",
       "      <td>5.5280</td>\n",
       "      <td>5.5270</td>\n",
       "      <td>5.5040</td>\n",
       "      <td>5.4870</td>\n",
       "      <td>5.2920</td>\n",
       "      <td>5.50978</td>\n",
       "      <td>5.44751</td>\n",
       "    </tr>\n",
       "    <tr>\n",
       "      <th>6113</th>\n",
       "      <td>5.42</td>\n",
       "      <td>5.8020</td>\n",
       "      <td>5.5520</td>\n",
       "      <td>5.5490</td>\n",
       "      <td>5.5210</td>\n",
       "      <td>5.6200</td>\n",
       "      <td>5.2570</td>\n",
       "      <td>5.51028</td>\n",
       "      <td>5.44584</td>\n",
       "    </tr>\n",
       "    <tr>\n",
       "      <th>6114</th>\n",
       "      <td>5.57</td>\n",
       "      <td>5.8250</td>\n",
       "      <td>5.5690</td>\n",
       "      <td>5.5890</td>\n",
       "      <td>5.5460</td>\n",
       "      <td>5.6320</td>\n",
       "      <td>5.3110</td>\n",
       "      <td>5.51111</td>\n",
       "      <td>5.43849</td>\n",
       "    </tr>\n",
       "    <tr>\n",
       "      <th>6115</th>\n",
       "      <td>5.70</td>\n",
       "      <td>5.8460</td>\n",
       "      <td>5.5770</td>\n",
       "      <td>5.5890</td>\n",
       "      <td>5.5750</td>\n",
       "      <td>5.6660</td>\n",
       "      <td>5.3350</td>\n",
       "      <td>5.51328</td>\n",
       "      <td>5.43750</td>\n",
       "    </tr>\n",
       "  </tbody>\n",
       "</table>\n",
       "<p>6116 rows × 9 columns</p>\n",
       "</div>"
      ],
      "text/plain": [
       "      Mid Price    30yr    10yr     5yr     2yr     1yr     6mo  3mo_sofr  \\\n",
       "0          3.83  4.2671  4.1689  4.3344  4.6563  4.7144  4.5497   0.04923   \n",
       "1          3.83  4.1812  4.1469  4.3677  4.7138  4.7565  4.5806   0.04924   \n",
       "2          3.83  4.1405  4.1005  4.3093  4.6197  4.6945  4.5520   0.04924   \n",
       "3          3.83  4.0919  4.0419  4.2670  4.5447  4.6258  4.5838   0.04924   \n",
       "4          3.08  4.1639  4.0478  4.2283  4.4824  4.6019  4.5359   0.04924   \n",
       "...         ...     ...     ...     ...     ...     ...     ...       ...   \n",
       "6111       5.51  5.7900  5.5500  5.5450  5.5120  5.4650  5.2920   5.50779   \n",
       "6112       5.65  5.7770  5.5280  5.5270  5.5040  5.4870  5.2920   5.50978   \n",
       "6113       5.42  5.8020  5.5520  5.5490  5.5210  5.6200  5.2570   5.51028   \n",
       "6114       5.57  5.8250  5.5690  5.5890  5.5460  5.6320  5.3110   5.51111   \n",
       "6115       5.70  5.8460  5.5770  5.5890  5.5750  5.6660  5.3350   5.51328   \n",
       "\n",
       "      1mo_sofr  \n",
       "0      0.04759  \n",
       "1      0.04767  \n",
       "2      0.04767  \n",
       "3      0.04767  \n",
       "4      0.04807  \n",
       "...        ...  \n",
       "6111   5.45019  \n",
       "6112   5.44751  \n",
       "6113   5.44584  \n",
       "6114   5.43849  \n",
       "6115   5.43750  \n",
       "\n",
       "[6116 rows x 9 columns]"
      ]
     },
     "execution_count": 35,
     "metadata": {},
     "output_type": "execute_result"
    }
   ],
   "source": [
    "df_sofr"
   ]
  },
  {
   "cell_type": "code",
   "execution_count": null,
   "id": "0ed40727",
   "metadata": {},
   "outputs": [],
   "source": []
  }
 ],
 "metadata": {
  "kernelspec": {
   "display_name": "Python 3",
   "language": "python",
   "name": "python3"
  },
  "language_info": {
   "codemirror_mode": {
    "name": "ipython",
    "version": 3
   },
   "file_extension": ".py",
   "mimetype": "text/x-python",
   "name": "python",
   "nbconvert_exporter": "python",
   "pygments_lexer": "ipython3",
   "version": "3.8.10"
  }
 },
 "nbformat": 4,
 "nbformat_minor": 5
}
