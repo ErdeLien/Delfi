{
 "cells": [
  {
   "cell_type": "code",
   "execution_count": 1,
   "id": "f1d2542c",
   "metadata": {},
   "outputs": [],
   "source": [
    "import pandas as pd\n",
    "import numpy as np\n",
    "import seaborn as sns \n",
    "import matplotlib.pyplot as plt\n",
    "#import sklearn\n",
    "from sklearn.decomposition import PCA\n",
    "from sklearn.preprocessing import StandardScaler\n",
    "%matplotlib inline\n",
    "from typing import Optional, NoReturn, Any\n",
    "import brownian_motion\n",
    "from scipy.sparse import diags"
   ]
  },
  {
   "cell_type": "markdown",
   "id": "2767bbf7",
   "metadata": {},
   "source": [
    "## Some useful CIR"
   ]
  },
  {
   "cell_type": "code",
   "execution_count": 144,
   "id": "10ce3505",
   "metadata": {},
   "outputs": [],
   "source": [
    "from dataclasses import dataclass\n",
    "from typing import Optional, NoReturn\n",
    "\n",
    "\n",
    "@dataclass\n",
    "class CIRParams:\n",
    "    \"\"\"CIR process params, 2ab has to be larger or equal then c^2.\"\"\"\n",
    "\n",
    "    a: float  # mean reversion parameter\n",
    "    b: float  # asymptotic mean\n",
    "    c: float  # Brownian motion scale factor (standard deviation)\n",
    "\n",
    "    def __post_init__(self) -> Optional[NoReturn]:\n",
    "        #if 2 * self.a * self.b < self.c ** 2:\n",
    "        #    raise ValueError(\"2ab has to be less than or equal to c^2.\")\n",
    "        return None"
   ]
  },
  {
   "cell_type": "code",
   "execution_count": 145,
   "id": "897d7e02",
   "metadata": {},
   "outputs": [],
   "source": [
    "import numpy as np\n",
    "from sklearn.linear_model import LinearRegression\n",
    "\n",
    "\n",
    "def estimate_CIR_params(sigma_t: np.ndarray) -> CIRParams:\n",
    "    \"\"\"\n",
    "    Estimate CIR params from OLS regression.\n",
    "    - sigma_t is 1D array.\n",
    "    Returns instance of CIRParams.\n",
    "    \"\"\"\n",
    "    # define regression specification\n",
    "    sigma_sqrt = np.sqrt(sigma_t[:-1])\n",
    "    y = np.diff(sigma_t) / sigma_sqrt\n",
    "    x1 = 1.0 / sigma_sqrt\n",
    "    x2 = sigma_sqrt\n",
    "    X = np.concatenate([x1.reshape(-1, 1), x2.reshape(-1, 1)], axis=1)\n",
    "    # regression model\n",
    "    reg = LinearRegression(fit_intercept=False)\n",
    "    reg.fit(X, y)\n",
    "    # regression coefficients\n",
    "    ab = reg.coef_[0]\n",
    "    a = -reg.coef_[1]\n",
    "    b = ab / a\n",
    "    # residuals and their standard deviation\n",
    "    y_hat = reg.predict(X)\n",
    "    c = np.std(y - y_hat)\n",
    "    return CIRParams(a, b, c)"
   ]
  },
  {
   "cell_type": "markdown",
   "id": "36bd6979",
   "metadata": {},
   "source": [
    "## Chen"
   ]
  },
  {
   "cell_type": "code",
   "execution_count": 146,
   "id": "0595f3da",
   "metadata": {},
   "outputs": [],
   "source": [
    "from dataclasses import dataclass\n",
    "from typing import Optional, NoReturn\n",
    "\n",
    "\n",
    "@dataclass\n",
    "class ChenParams:\n",
    "    \"\"\"CIR process params, 2ab has to be larger or equal then c^2.\"\"\"\n",
    "\n",
    "    kappa: float\n",
    "    nu: float\n",
    "    zeta: float\n",
    "    alpha: float\n",
    "    mu: float\n",
    "    beta: float\n",
    "    eta: float\n",
    "\n",
    "    def __post_init__(self) -> Optional[NoReturn]:\n",
    "    #    if 2 * self.a * self.b < self.c ** 2:\n",
    "    #        raise ValueError(\"2ab has to be less than or equal to c^2.\")\n",
    "        return None"
   ]
  },
  {
   "cell_type": "code",
   "execution_count": 147,
   "id": "0b4e50f6",
   "metadata": {},
   "outputs": [],
   "source": [
    "def _validate_not_nan(dsigma_t: Any) -> Optional[NoReturn]:\n",
    "    if np.isnan(dsigma_t).any():\n",
    "        print(dsigma_t)\n",
    "        raise ValueError(\n",
    "            \"CIR process simulation crashed, check your CIR_params. \"\n",
    "            + \"Maybe choose a smaller c value.\"\n",
    "        )\n",
    "    return None\n",
    "\n",
    "def generateChenVolDrift(\n",
    "    dW: np.ndarray,\n",
    "    a: float,\n",
    "    b: float,\n",
    "    c: float,\n",
    "    sigma_0: float\n",
    "):\n",
    "    N = len(dW)\n",
    "    T = len(dW[0])\n",
    "    sigma_t = np.full((N, T), sigma_0)\n",
    "    for t in range(1, T):\n",
    "        dsigma_t = (\n",
    "            a * (b - sigma_t[:, t-1]) + c*np.sqrt(sigma_t[:,t-1])*dW[:,t]\n",
    "        )\n",
    "        _validate_not_nan(dsigma_t)\n",
    "        sigma_t[:,t] = (sigma_t[:,t-1]+dsigma_t)\n",
    "    return np.asarray(sigma_t)\n",
    "\n",
    "def generateChenRate(\n",
    "    dW: np.ndarray,\n",
    "    kappa: float,\n",
    "    theta: np.ndarray,\n",
    "    sigma: np.ndarray\n",
    "):\n",
    "    N = len(dW)\n",
    "    T = len(dW[0])\n",
    "    rate_t = np.full((N, T), 0)\n",
    "    rate_t[:, 0] = theta[:, 0]\n",
    "    for t in range(1, T):\n",
    "        d_rate_t = (\n",
    "            kappa * (theta[:, t-1] - rate_t[:, t-1]) \n",
    "            + np.sqrt(rate_t[:,t-1])*np.sqrt(sigma[:,t-1])*dW[:,t]\n",
    "        )\n",
    "        rate_t[:,t] = d_rate_t + rate_t[:, t-1]\n",
    "    return np.asarray(rate_t)\n",
    "\n",
    "def getChen(\n",
    "    N: int,\n",
    "    T: int,\n",
    "    params: ChenParams,\n",
    "    random_state: Optional[int] = None\n",
    "):\n",
    "    rand_mat = np.random.randint(1_000_000, size=3)\n",
    "    dW_1 = brownian_motion.get_dW(N, T, rand_mat[0])\n",
    "    dW_2 = brownian_motion.get_dW(N, T, rand_mat[1])\n",
    "    dW_3 = brownian_motion.get_dW(N, T, rand_mat[2])\n",
    "    \n",
    "    sigma = generateChenVolDrift(dW_3, params.mu, params.beta, params.eta, params.beta)\n",
    "    theta = generateChenVolDrift(dW_2, params.nu, params.zeta, params.alpha, params.zeta)\n",
    "    rate = generateChenRate(dW_1, params.kappa, theta, sigma)\n",
    "    \n",
    "    return rate"
   ]
  },
  {
   "cell_type": "code",
   "execution_count": 214,
   "id": "f288ab2e",
   "metadata": {},
   "outputs": [],
   "source": [
    "def estimateChen(rate: np.ndarray, w = 252):\n",
    "    T = len(rate)\n",
    "    \n",
    "    if w >= T:\n",
    "        raise ValueError(\"Window should be shorter than total time\")\n",
    "    \n",
    "    # drift calculation vectorized: faster than pd.rolling\n",
    "    roll_mat = diags(np.full(w, 1/w), np.asarray(range(0,w)), shape=(T-w+1, T)).toarray().T\n",
    "    drift = rate @ roll_mat\n",
    "    drift_param = estimate_CIR_params(drift)\n",
    "    \n",
    "    # volatility:\n",
    "    vol = np.asarray(pd.DataFrame(test_proc.T).rolling(w).std()).T[:,(w-1):][0]\n",
    "    vol_param = estimate_CIR_params(vol)\n",
    "    \n",
    "    # estimation in kappa: rolling drift/vol correspond to the value at the center of window???\n",
    "    rate = rate[int(w/2)-1:-int(w/2)+1]\n",
    "    rate_sqrt = np.sqrt(rate[:-1])\n",
    "    y = np.diff(rate)/rate_sqrt\n",
    "    x = drift/rate_sqrt - rate_sqrt\n",
    "    reg = LinearRegression(fit_intercept=False)\n",
    "    #print(x.reshape(-1,1))\n",
    "    reg.fit(x.reshape(-1,1),y)\n",
    "    kappa = reg.coef_[0]\n",
    "    \n",
    "    \n",
    "    return ChenParams(kappa, drift_param.a, drift_param.b, drift_param.c, vol_param.a, vol_param.b, vol_param.c)"
   ]
  },
  {
   "cell_type": "code",
   "execution_count": 245,
   "id": "79486704",
   "metadata": {},
   "outputs": [
    {
     "data": {
      "text/plain": [
       "[<matplotlib.lines.Line2D at 0x16dde2e20>]"
      ]
     },
     "execution_count": 245,
     "metadata": {},
     "output_type": "execute_result"
    },
    {
     "data": {
      "image/png": "[encoded data removed]",
      "text/plain": [
       "<Figure size 640x480 with 1 Axes>"
      ]
     },
     "metadata": {},
     "output_type": "display_data"
    }
   ],
   "source": [
    "test_param = ChenParams(.5,.1,10,.1,.5,.5,.1)\n",
    "test_proc = getChen(1,1000,test_param)[0]\n",
    "plt.plot(test_proc)"
   ]
  },
  {
   "cell_type": "code",
   "execution_count": 246,
   "id": "65041f09",
   "metadata": {},
   "outputs": [
    {
     "name": "stderr",
     "output_type": "stream",
     "text": [
      "/var/folders/2z/08m68qw50192x877gr0l5lzm0000gn/T/ipykernel_7004/64498353.py:19: RuntimeWarning: divide by zero encountered in divide\n",
      "  y = np.diff(rate)/rate_sqrt\n",
      "/var/folders/2z/08m68qw50192x877gr0l5lzm0000gn/T/ipykernel_7004/64498353.py:20: RuntimeWarning: divide by zero encountered in divide\n",
      "  x = drift/rate_sqrt - rate_sqrt\n"
     ]
    },
    {
     "ename": "ValueError",
     "evalue": "Input X contains infinity or a value too large for dtype('float64').",
     "output_type": "error",
     "traceback": [
      "\u001b[0;31m---------------------------------------------------------------------------\u001b[0m",
      "\u001b[0;31mValueError\u001b[0m                                Traceback (most recent call last)",
      "Cell \u001b[0;32mIn[246], line 1\u001b[0m\n\u001b[0;32m----> 1\u001b[0m est_param \u001b[38;5;241m=\u001b[39m \u001b[43mestimateChen\u001b[49m\u001b[43m(\u001b[49m\u001b[43mtest_proc\u001b[49m\u001b[43m)\u001b[49m\n\u001b[1;32m      2\u001b[0m est_param\n",
      "Cell \u001b[0;32mIn[214], line 23\u001b[0m, in \u001b[0;36mestimateChen\u001b[0;34m(rate, w)\u001b[0m\n\u001b[1;32m     21\u001b[0m reg \u001b[38;5;241m=\u001b[39m LinearRegression(fit_intercept\u001b[38;5;241m=\u001b[39m\u001b[38;5;28;01mFalse\u001b[39;00m)\n\u001b[1;32m     22\u001b[0m \u001b[38;5;66;03m#print(x.reshape(-1,1))\u001b[39;00m\n\u001b[0;32m---> 23\u001b[0m \u001b[43mreg\u001b[49m\u001b[38;5;241;43m.\u001b[39;49m\u001b[43mfit\u001b[49m\u001b[43m(\u001b[49m\u001b[43mx\u001b[49m\u001b[38;5;241;43m.\u001b[39;49m\u001b[43mreshape\u001b[49m\u001b[43m(\u001b[49m\u001b[38;5;241;43m-\u001b[39;49m\u001b[38;5;241;43m1\u001b[39;49m\u001b[43m,\u001b[49m\u001b[38;5;241;43m1\u001b[39;49m\u001b[43m)\u001b[49m\u001b[43m,\u001b[49m\u001b[43my\u001b[49m\u001b[43m)\u001b[49m\n\u001b[1;32m     24\u001b[0m kappa \u001b[38;5;241m=\u001b[39m reg\u001b[38;5;241m.\u001b[39mcoef_[\u001b[38;5;241m0\u001b[39m]\n\u001b[1;32m     27\u001b[0m \u001b[38;5;28;01mreturn\u001b[39;00m ChenParams(kappa, drift_param\u001b[38;5;241m.\u001b[39ma, drift_param\u001b[38;5;241m.\u001b[39mb, drift_param\u001b[38;5;241m.\u001b[39mc, vol_param\u001b[38;5;241m.\u001b[39ma, vol_param\u001b[38;5;241m.\u001b[39mb, vol_param\u001b[38;5;241m.\u001b[39mc)\n",
      "File \u001b[0;32m~/Library/Python/3.9/lib/python/site-packages/sklearn/linear_model/_base.py:684\u001b[0m, in \u001b[0;36mLinearRegression.fit\u001b[0;34m(self, X, y, sample_weight)\u001b[0m\n\u001b[1;32m    680\u001b[0m n_jobs_ \u001b[38;5;241m=\u001b[39m \u001b[38;5;28mself\u001b[39m\u001b[38;5;241m.\u001b[39mn_jobs\n\u001b[1;32m    682\u001b[0m accept_sparse \u001b[38;5;241m=\u001b[39m \u001b[38;5;28;01mFalse\u001b[39;00m \u001b[38;5;28;01mif\u001b[39;00m \u001b[38;5;28mself\u001b[39m\u001b[38;5;241m.\u001b[39mpositive \u001b[38;5;28;01melse\u001b[39;00m [\u001b[38;5;124m\"\u001b[39m\u001b[38;5;124mcsr\u001b[39m\u001b[38;5;124m\"\u001b[39m, \u001b[38;5;124m\"\u001b[39m\u001b[38;5;124mcsc\u001b[39m\u001b[38;5;124m\"\u001b[39m, \u001b[38;5;124m\"\u001b[39m\u001b[38;5;124mcoo\u001b[39m\u001b[38;5;124m\"\u001b[39m]\n\u001b[0;32m--> 684\u001b[0m X, y \u001b[38;5;241m=\u001b[39m \u001b[38;5;28;43mself\u001b[39;49m\u001b[38;5;241;43m.\u001b[39;49m\u001b[43m_validate_data\u001b[49m\u001b[43m(\u001b[49m\n\u001b[1;32m    685\u001b[0m \u001b[43m    \u001b[49m\u001b[43mX\u001b[49m\u001b[43m,\u001b[49m\u001b[43m \u001b[49m\u001b[43my\u001b[49m\u001b[43m,\u001b[49m\u001b[43m \u001b[49m\u001b[43maccept_sparse\u001b[49m\u001b[38;5;241;43m=\u001b[39;49m\u001b[43maccept_sparse\u001b[49m\u001b[43m,\u001b[49m\u001b[43m \u001b[49m\u001b[43my_numeric\u001b[49m\u001b[38;5;241;43m=\u001b[39;49m\u001b[38;5;28;43;01mTrue\u001b[39;49;00m\u001b[43m,\u001b[49m\u001b[43m \u001b[49m\u001b[43mmulti_output\u001b[49m\u001b[38;5;241;43m=\u001b[39;49m\u001b[38;5;28;43;01mTrue\u001b[39;49;00m\n\u001b[1;32m    686\u001b[0m \u001b[43m\u001b[49m\u001b[43m)\u001b[49m\n\u001b[1;32m    688\u001b[0m sample_weight \u001b[38;5;241m=\u001b[39m _check_sample_weight(\n\u001b[1;32m    689\u001b[0m     sample_weight, X, dtype\u001b[38;5;241m=\u001b[39mX\u001b[38;5;241m.\u001b[39mdtype, only_non_negative\u001b[38;5;241m=\u001b[39m\u001b[38;5;28;01mTrue\u001b[39;00m\n\u001b[1;32m    690\u001b[0m )\n\u001b[1;32m    692\u001b[0m X, y, X_offset, y_offset, X_scale \u001b[38;5;241m=\u001b[39m _preprocess_data(\n\u001b[1;32m    693\u001b[0m     X,\n\u001b[1;32m    694\u001b[0m     y,\n\u001b[0;32m   (...)\u001b[0m\n\u001b[1;32m    698\u001b[0m     sample_weight\u001b[38;5;241m=\u001b[39msample_weight,\n\u001b[1;32m    699\u001b[0m )\n",
      "File \u001b[0;32m~/Library/Python/3.9/lib/python/site-packages/sklearn/base.py:596\u001b[0m, in \u001b[0;36mBaseEstimator._validate_data\u001b[0;34m(self, X, y, reset, validate_separately, **check_params)\u001b[0m\n\u001b[1;32m    594\u001b[0m         y \u001b[38;5;241m=\u001b[39m check_array(y, input_name\u001b[38;5;241m=\u001b[39m\u001b[38;5;124m\"\u001b[39m\u001b[38;5;124my\u001b[39m\u001b[38;5;124m\"\u001b[39m, \u001b[38;5;241m*\u001b[39m\u001b[38;5;241m*\u001b[39mcheck_y_params)\n\u001b[1;32m    595\u001b[0m     \u001b[38;5;28;01melse\u001b[39;00m:\n\u001b[0;32m--> 596\u001b[0m         X, y \u001b[38;5;241m=\u001b[39m \u001b[43mcheck_X_y\u001b[49m\u001b[43m(\u001b[49m\u001b[43mX\u001b[49m\u001b[43m,\u001b[49m\u001b[43m \u001b[49m\u001b[43my\u001b[49m\u001b[43m,\u001b[49m\u001b[43m \u001b[49m\u001b[38;5;241;43m*\u001b[39;49m\u001b[38;5;241;43m*\u001b[39;49m\u001b[43mcheck_params\u001b[49m\u001b[43m)\u001b[49m\n\u001b[1;32m    597\u001b[0m     out \u001b[38;5;241m=\u001b[39m X, y\n\u001b[1;32m    599\u001b[0m \u001b[38;5;28;01mif\u001b[39;00m \u001b[38;5;129;01mnot\u001b[39;00m no_val_X \u001b[38;5;129;01mand\u001b[39;00m check_params\u001b[38;5;241m.\u001b[39mget(\u001b[38;5;124m\"\u001b[39m\u001b[38;5;124mensure_2d\u001b[39m\u001b[38;5;124m\"\u001b[39m, \u001b[38;5;28;01mTrue\u001b[39;00m):\n",
      "File \u001b[0;32m~/Library/Python/3.9/lib/python/site-packages/sklearn/utils/validation.py:1074\u001b[0m, in \u001b[0;36mcheck_X_y\u001b[0;34m(X, y, accept_sparse, accept_large_sparse, dtype, order, copy, force_all_finite, ensure_2d, allow_nd, multi_output, ensure_min_samples, ensure_min_features, y_numeric, estimator)\u001b[0m\n\u001b[1;32m   1069\u001b[0m         estimator_name \u001b[38;5;241m=\u001b[39m _check_estimator_name(estimator)\n\u001b[1;32m   1070\u001b[0m     \u001b[38;5;28;01mraise\u001b[39;00m \u001b[38;5;167;01mValueError\u001b[39;00m(\n\u001b[1;32m   1071\u001b[0m         \u001b[38;5;124mf\u001b[39m\u001b[38;5;124m\"\u001b[39m\u001b[38;5;132;01m{\u001b[39;00mestimator_name\u001b[38;5;132;01m}\u001b[39;00m\u001b[38;5;124m requires y to be passed, but the target y is None\u001b[39m\u001b[38;5;124m\"\u001b[39m\n\u001b[1;32m   1072\u001b[0m     )\n\u001b[0;32m-> 1074\u001b[0m X \u001b[38;5;241m=\u001b[39m \u001b[43mcheck_array\u001b[49m\u001b[43m(\u001b[49m\n\u001b[1;32m   1075\u001b[0m \u001b[43m    \u001b[49m\u001b[43mX\u001b[49m\u001b[43m,\u001b[49m\n\u001b[1;32m   1076\u001b[0m \u001b[43m    \u001b[49m\u001b[43maccept_sparse\u001b[49m\u001b[38;5;241;43m=\u001b[39;49m\u001b[43maccept_sparse\u001b[49m\u001b[43m,\u001b[49m\n\u001b[1;32m   1077\u001b[0m \u001b[43m    \u001b[49m\u001b[43maccept_large_sparse\u001b[49m\u001b[38;5;241;43m=\u001b[39;49m\u001b[43maccept_large_sparse\u001b[49m\u001b[43m,\u001b[49m\n\u001b[1;32m   1078\u001b[0m \u001b[43m    \u001b[49m\u001b[43mdtype\u001b[49m\u001b[38;5;241;43m=\u001b[39;49m\u001b[43mdtype\u001b[49m\u001b[43m,\u001b[49m\n\u001b[1;32m   1079\u001b[0m \u001b[43m    \u001b[49m\u001b[43morder\u001b[49m\u001b[38;5;241;43m=\u001b[39;49m\u001b[43morder\u001b[49m\u001b[43m,\u001b[49m\n\u001b[1;32m   1080\u001b[0m \u001b[43m    \u001b[49m\u001b[43mcopy\u001b[49m\u001b[38;5;241;43m=\u001b[39;49m\u001b[43mcopy\u001b[49m\u001b[43m,\u001b[49m\n\u001b[1;32m   1081\u001b[0m \u001b[43m    \u001b[49m\u001b[43mforce_all_finite\u001b[49m\u001b[38;5;241;43m=\u001b[39;49m\u001b[43mforce_all_finite\u001b[49m\u001b[43m,\u001b[49m\n\u001b[1;32m   1082\u001b[0m \u001b[43m    \u001b[49m\u001b[43mensure_2d\u001b[49m\u001b[38;5;241;43m=\u001b[39;49m\u001b[43mensure_2d\u001b[49m\u001b[43m,\u001b[49m\n\u001b[1;32m   1083\u001b[0m \u001b[43m    \u001b[49m\u001b[43mallow_nd\u001b[49m\u001b[38;5;241;43m=\u001b[39;49m\u001b[43mallow_nd\u001b[49m\u001b[43m,\u001b[49m\n\u001b[1;32m   1084\u001b[0m \u001b[43m    \u001b[49m\u001b[43mensure_min_samples\u001b[49m\u001b[38;5;241;43m=\u001b[39;49m\u001b[43mensure_min_samples\u001b[49m\u001b[43m,\u001b[49m\n\u001b[1;32m   1085\u001b[0m \u001b[43m    \u001b[49m\u001b[43mensure_min_features\u001b[49m\u001b[38;5;241;43m=\u001b[39;49m\u001b[43mensure_min_features\u001b[49m\u001b[43m,\u001b[49m\n\u001b[1;32m   1086\u001b[0m \u001b[43m    \u001b[49m\u001b[43mestimator\u001b[49m\u001b[38;5;241;43m=\u001b[39;49m\u001b[43mestimator\u001b[49m\u001b[43m,\u001b[49m\n\u001b[1;32m   1087\u001b[0m \u001b[43m    \u001b[49m\u001b[43minput_name\u001b[49m\u001b[38;5;241;43m=\u001b[39;49m\u001b[38;5;124;43m\"\u001b[39;49m\u001b[38;5;124;43mX\u001b[39;49m\u001b[38;5;124;43m\"\u001b[39;49m\u001b[43m,\u001b[49m\n\u001b[1;32m   1088\u001b[0m \u001b[43m\u001b[49m\u001b[43m)\u001b[49m\n\u001b[1;32m   1090\u001b[0m y \u001b[38;5;241m=\u001b[39m _check_y(y, multi_output\u001b[38;5;241m=\u001b[39mmulti_output, y_numeric\u001b[38;5;241m=\u001b[39my_numeric, estimator\u001b[38;5;241m=\u001b[39mestimator)\n\u001b[1;32m   1092\u001b[0m check_consistent_length(X, y)\n",
      "File \u001b[0;32m~/Library/Python/3.9/lib/python/site-packages/sklearn/utils/validation.py:899\u001b[0m, in \u001b[0;36mcheck_array\u001b[0;34m(array, accept_sparse, accept_large_sparse, dtype, order, copy, force_all_finite, ensure_2d, allow_nd, ensure_min_samples, ensure_min_features, estimator, input_name)\u001b[0m\n\u001b[1;32m    893\u001b[0m         \u001b[38;5;28;01mraise\u001b[39;00m \u001b[38;5;167;01mValueError\u001b[39;00m(\n\u001b[1;32m    894\u001b[0m             \u001b[38;5;124m\"\u001b[39m\u001b[38;5;124mFound array with dim \u001b[39m\u001b[38;5;132;01m%d\u001b[39;00m\u001b[38;5;124m. \u001b[39m\u001b[38;5;132;01m%s\u001b[39;00m\u001b[38;5;124m expected <= 2.\u001b[39m\u001b[38;5;124m\"\u001b[39m\n\u001b[1;32m    895\u001b[0m             \u001b[38;5;241m%\u001b[39m (array\u001b[38;5;241m.\u001b[39mndim, estimator_name)\n\u001b[1;32m    896\u001b[0m         )\n\u001b[1;32m    898\u001b[0m     \u001b[38;5;28;01mif\u001b[39;00m force_all_finite:\n\u001b[0;32m--> 899\u001b[0m         \u001b[43m_assert_all_finite\u001b[49m\u001b[43m(\u001b[49m\n\u001b[1;32m    900\u001b[0m \u001b[43m            \u001b[49m\u001b[43marray\u001b[49m\u001b[43m,\u001b[49m\n\u001b[1;32m    901\u001b[0m \u001b[43m            \u001b[49m\u001b[43minput_name\u001b[49m\u001b[38;5;241;43m=\u001b[39;49m\u001b[43minput_name\u001b[49m\u001b[43m,\u001b[49m\n\u001b[1;32m    902\u001b[0m \u001b[43m            \u001b[49m\u001b[43mestimator_name\u001b[49m\u001b[38;5;241;43m=\u001b[39;49m\u001b[43mestimator_name\u001b[49m\u001b[43m,\u001b[49m\n\u001b[1;32m    903\u001b[0m \u001b[43m            \u001b[49m\u001b[43mallow_nan\u001b[49m\u001b[38;5;241;43m=\u001b[39;49m\u001b[43mforce_all_finite\u001b[49m\u001b[43m \u001b[49m\u001b[38;5;241;43m==\u001b[39;49m\u001b[43m \u001b[49m\u001b[38;5;124;43m\"\u001b[39;49m\u001b[38;5;124;43mallow-nan\u001b[39;49m\u001b[38;5;124;43m\"\u001b[39;49m\u001b[43m,\u001b[49m\n\u001b[1;32m    904\u001b[0m \u001b[43m        \u001b[49m\u001b[43m)\u001b[49m\n\u001b[1;32m    906\u001b[0m \u001b[38;5;28;01mif\u001b[39;00m ensure_min_samples \u001b[38;5;241m>\u001b[39m \u001b[38;5;241m0\u001b[39m:\n\u001b[1;32m    907\u001b[0m     n_samples \u001b[38;5;241m=\u001b[39m _num_samples(array)\n",
      "File \u001b[0;32m~/Library/Python/3.9/lib/python/site-packages/sklearn/utils/validation.py:146\u001b[0m, in \u001b[0;36m_assert_all_finite\u001b[0;34m(X, allow_nan, msg_dtype, estimator_name, input_name)\u001b[0m\n\u001b[1;32m    124\u001b[0m         \u001b[38;5;28;01mif\u001b[39;00m (\n\u001b[1;32m    125\u001b[0m             \u001b[38;5;129;01mnot\u001b[39;00m allow_nan\n\u001b[1;32m    126\u001b[0m             \u001b[38;5;129;01mand\u001b[39;00m estimator_name\n\u001b[0;32m   (...)\u001b[0m\n\u001b[1;32m    130\u001b[0m             \u001b[38;5;66;03m# Improve the error message on how to handle missing values in\u001b[39;00m\n\u001b[1;32m    131\u001b[0m             \u001b[38;5;66;03m# scikit-learn.\u001b[39;00m\n\u001b[1;32m    132\u001b[0m             msg_err \u001b[38;5;241m+\u001b[39m\u001b[38;5;241m=\u001b[39m (\n\u001b[1;32m    133\u001b[0m                 \u001b[38;5;124mf\u001b[39m\u001b[38;5;124m\"\u001b[39m\u001b[38;5;130;01m\\n\u001b[39;00m\u001b[38;5;132;01m{\u001b[39;00mestimator_name\u001b[38;5;132;01m}\u001b[39;00m\u001b[38;5;124m does not accept missing values\u001b[39m\u001b[38;5;124m\"\u001b[39m\n\u001b[1;32m    134\u001b[0m                 \u001b[38;5;124m\"\u001b[39m\u001b[38;5;124m encoded as NaN natively. For supervised learning, you might want\u001b[39m\u001b[38;5;124m\"\u001b[39m\n\u001b[0;32m   (...)\u001b[0m\n\u001b[1;32m    144\u001b[0m                 \u001b[38;5;124m\"\u001b[39m\u001b[38;5;124m#estimators-that-handle-nan-values\u001b[39m\u001b[38;5;124m\"\u001b[39m\n\u001b[1;32m    145\u001b[0m             )\n\u001b[0;32m--> 146\u001b[0m         \u001b[38;5;28;01mraise\u001b[39;00m \u001b[38;5;167;01mValueError\u001b[39;00m(msg_err)\n\u001b[1;32m    148\u001b[0m \u001b[38;5;66;03m# for object dtype data, we only check for NaNs (GH-13254)\u001b[39;00m\n\u001b[1;32m    149\u001b[0m \u001b[38;5;28;01melif\u001b[39;00m X\u001b[38;5;241m.\u001b[39mdtype \u001b[38;5;241m==\u001b[39m np\u001b[38;5;241m.\u001b[39mdtype(\u001b[38;5;124m\"\u001b[39m\u001b[38;5;124mobject\u001b[39m\u001b[38;5;124m\"\u001b[39m) \u001b[38;5;129;01mand\u001b[39;00m \u001b[38;5;129;01mnot\u001b[39;00m allow_nan:\n",
      "\u001b[0;31mValueError\u001b[0m: Input X contains infinity or a value too large for dtype('float64')."
     ]
    }
   ],
   "source": [
    "est_param = estimateChen(test_proc)\n",
    "est_param"
   ]
  },
  {
   "cell_type": "code",
   "execution_count": 126,
   "id": "d040c7dd",
   "metadata": {},
   "outputs": [
    {
     "data": {
      "text/plain": [
       "CIRParams(a=0.0028368766423389176, b=2.5053126765587614, c=0.006553296611683364)"
      ]
     },
     "execution_count": 126,
     "metadata": {},
     "output_type": "execute_result"
    }
   ],
   "source": [
    "estimate_CIR_params(np.asarray(pd.DataFrame(test_proc.T).rolling(252).std()).T[:,251:][0])"
   ]
  },
  {
   "cell_type": "code",
   "execution_count": null,
   "id": "c48d36d3",
   "metadata": {},
   "outputs": [],
   "source": []
  },
  {
   "cell_type": "code",
   "execution_count": 8,
   "id": "b3b91eb4",
   "metadata": {},
   "outputs": [
    {
     "data": {
      "text/plain": [
       "array([[1., 0., 0.],\n",
       "       [2., 1., 0.],\n",
       "       [3., 2., 1.],\n",
       "       [0., 3., 2.],\n",
       "       [0., 0., 3.]])"
      ]
     },
     "execution_count": 8,
     "metadata": {},
     "output_type": "execute_result"
    }
   ],
   "source": [
    "diags([1, 2, 3], [0, 1, 2], shape=(3,5)).toarray().T"
   ]
  },
  {
   "cell_type": "code",
   "execution_count": 3,
   "id": "989cfdbd",
   "metadata": {},
   "outputs": [
    {
     "data": {
      "text/plain": [
       "array([  0.,   1.,   2.,   3.,   4.,   5.,   6.,   7.,   8.,   9.,  10.,\n",
       "        11.,  12.,  13.,  14.,  15.,  16.,  17.,  18.,  19.,  20.,  21.,\n",
       "        22.,  23.,  24.,  25.,  26.,  27.,  28.,  29.,  30.,  31.,  32.,\n",
       "        33.,  34.,  35.,  36.,  37.,  38.,  39.,  40.,  41.,  42.,  43.,\n",
       "        44.,  45.,  46.,  47.,  48.,  49.,  50.,  51.,  52.,  53.,  54.,\n",
       "        55.,  56.,  57.,  58.,  59.,  60.,  61.,  62.,  63.,  64.,  65.,\n",
       "        66.,  67.,  68.,  69.,  70.,  71.,  72.,  73.,  74.,  75.,  76.,\n",
       "        77.,  78.,  79.,  80.,  81.,  82.,  83.,  84.,  85.,  86.,  87.,\n",
       "        88.,  89.,  90.,  91.,  92.,  93.,  94.,  95.,  96.,  97.,  98.,\n",
       "        99., 100., 101., 102., 103., 104., 105., 106., 107., 108., 109.,\n",
       "       110., 111., 112., 113., 114., 115., 116., 117., 118., 119., 120.,\n",
       "       121., 122., 123., 124., 125., 126., 127., 128., 129., 130., 131.,\n",
       "       132., 133., 134., 135., 136., 137., 138., 139., 140., 141., 142.,\n",
       "       143., 144., 145., 146., 147., 148., 149., 150., 151., 152., 153.,\n",
       "       154., 155., 156., 157., 158., 159., 160., 161., 162., 163., 164.,\n",
       "       165., 166., 167., 168., 169., 170., 171., 172., 173., 174., 175.,\n",
       "       176., 177., 178., 179., 180., 181., 182., 183., 184., 185., 186.,\n",
       "       187., 188., 189., 190., 191., 192., 193., 194., 195., 196., 197.,\n",
       "       198., 199., 200., 201., 202., 203., 204., 205., 206., 207., 208.,\n",
       "       209., 210., 211., 212., 213., 214., 215., 216., 217., 218., 219.,\n",
       "       220., 221., 222., 223., 224., 225., 226., 227., 228., 229., 230.,\n",
       "       231., 232., 233., 234., 235., 236., 237., 238., 239., 240., 241.,\n",
       "       242., 243., 244., 245., 246., 247., 248., 249., 250., 251.])"
      ]
     },
     "execution_count": 3,
     "metadata": {},
     "output_type": "execute_result"
    }
   ],
   "source": [
    "np.linspace(0, 251, 252)"
   ]
  },
  {
   "cell_type": "code",
   "execution_count": 7,
   "id": "ef43e307",
   "metadata": {},
   "outputs": [
    {
     "data": {
      "text/plain": [
       "array([  0,   1,   2,   3,   4,   5,   6,   7,   8,   9,  10,  11,  12,\n",
       "        13,  14,  15,  16,  17,  18,  19,  20,  21,  22,  23,  24,  25,\n",
       "        26,  27,  28,  29,  30,  31,  32,  33,  34,  35,  36,  37,  38,\n",
       "        39,  40,  41,  42,  43,  44,  45,  46,  47,  48,  49,  50,  51,\n",
       "        52,  53,  54,  55,  56,  57,  58,  59,  60,  61,  62,  63,  64,\n",
       "        65,  66,  67,  68,  69,  70,  71,  72,  73,  74,  75,  76,  77,\n",
       "        78,  79,  80,  81,  82,  83,  84,  85,  86,  87,  88,  89,  90,\n",
       "        91,  92,  93,  94,  95,  96,  97,  98,  99, 100, 101, 102, 103,\n",
       "       104, 105, 106, 107, 108, 109, 110, 111, 112, 113, 114, 115, 116,\n",
       "       117, 118, 119, 120, 121, 122, 123, 124, 125, 126, 127, 128, 129,\n",
       "       130, 131, 132, 133, 134, 135, 136, 137, 138, 139, 140, 141, 142,\n",
       "       143, 144, 145, 146, 147, 148, 149, 150, 151, 152, 153, 154, 155,\n",
       "       156, 157, 158, 159, 160, 161, 162, 163, 164, 165, 166, 167, 168,\n",
       "       169, 170, 171, 172, 173, 174, 175, 176, 177, 178, 179, 180, 181,\n",
       "       182, 183, 184, 185, 186, 187, 188, 189, 190, 191, 192, 193, 194,\n",
       "       195, 196, 197, 198, 199, 200, 201, 202, 203, 204, 205, 206, 207,\n",
       "       208, 209, 210, 211, 212, 213, 214, 215, 216, 217, 218, 219, 220,\n",
       "       221, 222, 223, 224, 225, 226, 227, 228, 229, 230, 231, 232, 233,\n",
       "       234, 235, 236, 237, 238, 239, 240, 241, 242, 243, 244, 245, 246,\n",
       "       247, 248, 249, 250, 251])"
      ]
     },
     "execution_count": 7,
     "metadata": {},
     "output_type": "execute_result"
    }
   ],
   "source": []
  },
  {
   "cell_type": "code",
   "execution_count": 114,
   "id": "601a04df",
   "metadata": {},
   "outputs": [],
   "source": [
    "x1 = np.arange(9.0).reshape((3, 3))[1]\n",
    "x2 = np.arange(3.0)"
   ]
  },
  {
   "cell_type": "code",
   "execution_count": 122,
   "id": "c6af9294",
   "metadata": {},
   "outputs": [
    {
     "data": {
      "text/plain": [
       "array([0.  , 0.25, 0.4 ])"
      ]
     },
     "execution_count": 122,
     "metadata": {},
     "output_type": "execute_result"
    }
   ],
   "source": [
    "x2/x1"
   ]
  },
  {
   "cell_type": "code",
   "execution_count": 118,
   "id": "a3a62d1b",
   "metadata": {},
   "outputs": [
    {
     "data": {
      "text/plain": [
       "array([3., 4., 5.])"
      ]
     },
     "execution_count": 118,
     "metadata": {},
     "output_type": "execute_result"
    }
   ],
   "source": [
    "x1"
   ]
  },
  {
   "cell_type": "code",
   "execution_count": 119,
   "id": "3bbb3cc2",
   "metadata": {},
   "outputs": [
    {
     "data": {
      "text/plain": [
       "array([0., 1., 2.])"
      ]
     },
     "execution_count": 119,
     "metadata": {},
     "output_type": "execute_result"
    }
   ],
   "source": [
    "x2"
   ]
  },
  {
   "cell_type": "code",
   "execution_count": null,
   "id": "eb515e8f",
   "metadata": {},
   "outputs": [],
   "source": []
  }
 ],
 "metadata": {
  "kernelspec": {
   "display_name": "Python 3 (ipykernel)",
   "language": "python",
   "name": "python3"
  },
  "language_info": {
   "codemirror_mode": {
    "name": "ipython",
    "version": 3
   },
   "file_extension": ".py",
   "mimetype": "text/x-python",
   "name": "python",
   "nbconvert_exporter": "python",
   "pygments_lexer": "ipython3",
   "version": "3.9.6"
  }
 },
 "nbformat": 4,
 "nbformat_minor": 5
}
